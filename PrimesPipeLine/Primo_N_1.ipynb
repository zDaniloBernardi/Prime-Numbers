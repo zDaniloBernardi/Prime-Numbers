{
  "nbformat": 4,
  "nbformat_minor": 0,
  "metadata": {
    "colab": {
      "provenance": [],
      "toc_visible": true,
      "authorship_tag": "ABX9TyPe8X+5a1tt1CdRe1uoF4x/",
      "include_colab_link": true
    },
    "kernelspec": {
      "name": "python3",
      "display_name": "Python 3"
    },
    "language_info": {
      "name": "python"
    }
  },
  "cells": [
    {
      "cell_type": "markdown",
      "metadata": {
        "id": "view-in-github",
        "colab_type": "text"
      },
      "source": [
        "<a href=\"https://colab.research.google.com/github/zDaniloBernardi/Prime-Numbers/blob/Main/V1./100k/Primo_N%2B1.ipynb\" target=\"_parent\"><img src=\"https://colab.research.google.com/assets/colab-badge.svg\" alt=\"Open In Colab\"/></a>"
      ]
    },
    {
      "cell_type": "code",
      "execution_count": null,
      "metadata": {
        "colab": {
          "base_uri": "https://localhost:8080/"
        },
        "id": "ZcNH9nDrE-fv",
        "outputId": "3a8256af-657c-4777-e760-21e82ddb4c45"
      },
      "outputs": [
        {
          "output_type": "stream",
          "name": "stdout",
          "text": [
            "Requirement already satisfied: sympy in /usr/local/lib/python3.11/dist-packages (1.13.1)\n",
            "Requirement already satisfied: xgboost in /usr/local/lib/python3.11/dist-packages (2.1.4)\n",
            "Requirement already satisfied: scipy in /usr/local/lib/python3.11/dist-packages (1.15.2)\n",
            "Requirement already satisfied: scikit-learn in /usr/local/lib/python3.11/dist-packages (1.6.1)\n",
            "Requirement already satisfied: pandas in /usr/local/lib/python3.11/dist-packages (2.2.2)\n",
            "Requirement already satisfied: mpmath<1.4,>=1.1.0 in /usr/local/lib/python3.11/dist-packages (from sympy) (1.3.0)\n",
            "Requirement already satisfied: numpy in /usr/local/lib/python3.11/dist-packages (from xgboost) (2.0.2)\n",
            "Requirement already satisfied: nvidia-nccl-cu12 in /usr/local/lib/python3.11/dist-packages (from xgboost) (2.21.5)\n",
            "Requirement already satisfied: joblib>=1.2.0 in /usr/local/lib/python3.11/dist-packages (from scikit-learn) (1.4.2)\n",
            "Requirement already satisfied: threadpoolctl>=3.1.0 in /usr/local/lib/python3.11/dist-packages (from scikit-learn) (3.6.0)\n",
            "Requirement already satisfied: python-dateutil>=2.8.2 in /usr/local/lib/python3.11/dist-packages (from pandas) (2.9.0.post0)\n",
            "Requirement already satisfied: pytz>=2020.1 in /usr/local/lib/python3.11/dist-packages (from pandas) (2025.2)\n",
            "Requirement already satisfied: tzdata>=2022.7 in /usr/local/lib/python3.11/dist-packages (from pandas) (2025.2)\n",
            "Requirement already satisfied: six>=1.5 in /usr/local/lib/python3.11/dist-packages (from python-dateutil>=2.8.2->pandas) (1.17.0)\n"
          ]
        }
      ],
      "source": [
        "!pip install sympy xgboost scipy scikit-learn pandas"
      ]
    },
    {
      "cell_type": "code",
      "source": [
        "import numpy as np\n",
        "import pandas as pd\n",
        "from sympy import primerange\n",
        "from sklearn.model_selection import TimeSeriesSplit\n",
        "from xgboost import XGBRegressor\n",
        "from sklearn.metrics import mean_absolute_error, mean_squared_error\n",
        "from scipy.stats import median_abs_deviation\n",
        "\n",
        "# 1) Geração de primos e gaps\n",
        "primes = np.array(list(primerange(0, 1_500_000)))[:100_000]\n",
        "gaps = np.diff(primes)\n",
        "w = 20\n",
        "n_windows = len(gaps) - w\n",
        "starts = np.arange(n_windows)\n",
        "\n",
        "# 2) Pré-cálculo das features para cada janela de 20 gaps\n",
        "orig_feats, rob_feats, hyb_feats, targets = [], [], [], []\n",
        "for i in starts:\n",
        "    window = gaps[i:i+w]\n",
        "    mean_gap = window.mean()\n",
        "    std_gap  = window.std(ddof=0)\n",
        "    median_gap = np.median(window)\n",
        "    mad_gap    = median_abs_deviation(window, scale='normal')\n",
        "    orig_feats.append([mean_gap, std_gap])\n",
        "    rob_feats.append([median_gap, mad_gap])\n",
        "    hyb_feats.append([mean_gap, std_gap, median_gap, mad_gap])\n",
        "    targets.append(gaps[i+w])\n",
        "\n",
        "df_orig = pd.DataFrame(orig_feats, columns=['Mean_Gap','Std_Gap'])\n",
        "df_rob  = pd.DataFrame(rob_feats,  columns=['Median_Gap','MAD_Gap'])\n",
        "df_hyb  = pd.DataFrame(hyb_feats,  columns=['Mean_Gap','Std_Gap','Median_Gap','MAD_Gap'])\n",
        "y       = pd.Series(targets, name='Next_Gap')\n",
        "\n",
        "# 3) Monte Carlo CV\n",
        "n_replicas = 10\n",
        "sample_size = 20000\n",
        "tscv = TimeSeriesSplit(n_splits=5)\n",
        "\n",
        "results = []\n",
        "for scenario, X in [('Original', df_orig), ('Robust', df_rob), ('Hybrid', df_hyb)]:\n",
        "    maes, rmses = [], []\n",
        "    for rep in range(n_replicas):\n",
        "        # amostra aleatória de janelas\n",
        "        idx = np.random.choice(starts, size=sample_size, replace=False)\n",
        "        idx.sort()\n",
        "        Xs = X.iloc[idx].reset_index(drop=True)\n",
        "        ys = y.iloc[idx].reset_index(drop=True)\n",
        "\n",
        "        fold_mae, fold_rmse = [], []\n",
        "        for tr, te in tscv.split(Xs):\n",
        "            model = XGBRegressor(\n",
        "                n_estimators=100,\n",
        "                max_depth=3,\n",
        "                learning_rate=0.1,\n",
        "                random_state=42,\n",
        "                verbosity=0\n",
        "            )\n",
        "            model.fit(Xs.iloc[tr], ys.iloc[tr])\n",
        "            pred = model.predict(Xs.iloc[te])\n",
        "            fold_mae.append(mean_absolute_error(ys.iloc[te], pred))\n",
        "            mse = mean_squared_error(ys.iloc[te], pred)\n",
        "            fold_rmse.append(np.sqrt(mse))\n",
        "        maes.append(np.mean(fold_mae))\n",
        "        rmses.append(np.mean(fold_rmse))\n",
        "\n",
        "    results.append({\n",
        "        'Scenario': scenario,\n",
        "        'MAE Mean': np.mean(maes),\n",
        "        'MAE Std': np.std(maes),\n",
        "        'RMSE Mean': np.mean(rmses),\n",
        "        'RMSE Std': np.std(rmses)\n",
        "    })\n",
        "\n",
        "# 4) Exibir resultados\n",
        "mc_df = pd.DataFrame(results)\n",
        "print(mc_df)\n"
      ],
      "metadata": {
        "colab": {
          "base_uri": "https://localhost:8080/"
        },
        "id": "d5LHV8SFFE9G",
        "outputId": "9253ae85-5d1e-4711-bb11-64311d309760"
      },
      "execution_count": null,
      "outputs": [
        {
          "output_type": "stream",
          "name": "stdout",
          "text": [
            "   Scenario  MAE Mean   MAE Std  RMSE Mean  RMSE Std\n",
            "0  Original  7.919308  0.042517  10.971222  0.067484\n",
            "1    Robust  7.881208  0.068437  10.923040  0.105019\n",
            "2    Hybrid  7.966753  0.044588  11.018633  0.041242\n"
          ]
        }
      ]
    },
    {
      "cell_type": "code",
      "source": [
        "import numpy as np\n",
        "import pandas as pd\n",
        "from sympy import primerange\n",
        "from xgboost import XGBRegressor\n",
        "from sklearn.metrics import mean_absolute_error, mean_squared_error\n",
        "from sklearn.model_selection import TimeSeriesSplit\n",
        "from scipy.stats import median_abs_deviation\n",
        "\n",
        "# 1) Gerar os 100 000 primeiros primos e calcular gaps\n",
        "primes = np.array(list(primerange(0, 1_500_000)))[:100_000]\n",
        "gaps = np.diff(primes)\n",
        "\n",
        "# 2) Extrair features robustas para cada janela de 20 gaps\n",
        "w = 20\n",
        "n_windows = len(gaps) - w\n",
        "features = []\n",
        "targets = []\n",
        "for i in range(n_windows):\n",
        "    window = gaps[i : i + w]\n",
        "    med = np.median(window)\n",
        "    mad = median_abs_deviation(window, scale='normal')\n",
        "    features.append([med, mad])\n",
        "    targets.append(gaps[i + w])\n",
        "\n",
        "X = pd.DataFrame(features, columns=['Median_Gap','MAD_Gap'])\n",
        "y = pd.Series(targets, name='Next_Gap')\n",
        "\n",
        "# 3) Validação com TimeSeriesSplit(5)\n",
        "tscv = TimeSeriesSplit(n_splits=5)\n",
        "maes, rmses, importances = [], [], []\n",
        "\n",
        "for tr, te in tscv.split(X):\n",
        "    X_train, X_test = X.iloc[tr], X.iloc[te]\n",
        "    y_train, y_test = y.iloc[tr], y.iloc[te]\n",
        "    model = XGBRegressor(\n",
        "        n_estimators=200,\n",
        "        max_depth=4,\n",
        "        learning_rate=0.05,\n",
        "        random_state=42\n",
        "    )\n",
        "    model.fit(X_train, y_train)\n",
        "    pred = model.predict(X_test)\n",
        "    maes.append(mean_absolute_error(y_test, pred))\n",
        "    rmse = np.sqrt(mean_squared_error(y_test, pred))\n",
        "    rmses.append(rmse)\n",
        "    importances.append(model.feature_importances_)\n",
        "\n",
        "# 4) Resultados finais\n",
        "print(\"MAE médio :\", np.mean(maes), \"±\", np.std(maes))\n",
        "print(\"RMSE médio:\", np.mean(rmses), \"±\", np.std(rmses))\n",
        "\n",
        "# Importâncias médias\n",
        "imp_mean = np.mean(importances, axis=0)\n",
        "imp_df = pd.DataFrame({\n",
        "    'Feature': ['Median_Gap','MAD_Gap'],\n",
        "    'Importance': imp_mean\n",
        "})\n",
        "print(\"\\nImportâncias de Feature:\")\n",
        "print(imp_df)\n"
      ],
      "metadata": {
        "colab": {
          "base_uri": "https://localhost:8080/"
        },
        "id": "gW7n_Mrshadk",
        "outputId": "7607b47b-3365-4ced-a5d5-c0df2578cf67"
      },
      "execution_count": null,
      "outputs": [
        {
          "output_type": "stream",
          "name": "stdout",
          "text": [
            "MAE médio : 7.887649917602539 ± 0.402124388955214\n",
            "RMSE médio: 10.955835306010977 ± 0.5085267390616913\n",
            "\n",
            "Importâncias de Feature:\n",
            "      Feature  Importance\n",
            "0  Median_Gap    0.514194\n",
            "1     MAD_Gap    0.485806\n"
          ]
        }
      ]
    },
    {
      "cell_type": "markdown",
      "source": [
        "**Código Completo**"
      ],
      "metadata": {
        "id": "Tcv1NU4Uh3xo"
      }
    },
    {
      "cell_type": "markdown",
      "source": [
        "# Código Completo"
      ],
      "metadata": {
        "id": "aFEkGJb2k87E"
      }
    },
    {
      "cell_type": "markdown",
      "source": [
        "# 1. 📓 Previsão de Gaps entre Primos com Estatísticas Robustas\n",
        "\n",
        "Este notebook executa o pipeline completo:\n",
        "- Geração de primos  \n",
        "- Cálculo de gaps  \n",
        "- Detecção de outliers  \n",
        "- Construção de features robustas (Median/MAD)  \n",
        "- Modelagem com XGBoost  \n",
        "- Avaliação de desempenho  \n",
        "- Otimização de hiperparâmetros  \n"
      ],
      "metadata": {
        "id": "cUg6kdJDlawb"
      }
    },
    {
      "cell_type": "code",
      "source": [
        "!pip install sympy xgboost scikit-learn pandas numpy matplotlib seaborn\n",
        "\n",
        "import numpy as np\n",
        "import pandas as pd\n",
        "import matplotlib.pyplot as plt\n",
        "import seaborn as sns\n",
        "\n",
        "from sympy import primerange\n",
        "from scipy.stats import median_abs_deviation\n",
        "from sklearn.model_selection import TimeSeriesSplit\n",
        "from sklearn.metrics import mean_absolute_error, mean_squared_error\n",
        "from xgboost import XGBRegressor\n"
      ],
      "metadata": {
        "colab": {
          "base_uri": "https://localhost:8080/"
        },
        "id": "AR9Ol_7GiPRb",
        "outputId": "f702e76d-4b23-470f-d115-9386687ac070"
      },
      "execution_count": 1,
      "outputs": [
        {
          "output_type": "stream",
          "name": "stdout",
          "text": [
            "Requirement already satisfied: sympy in /usr/local/lib/python3.11/dist-packages (1.13.1)\n",
            "Requirement already satisfied: xgboost in /usr/local/lib/python3.11/dist-packages (2.1.4)\n",
            "Requirement already satisfied: scikit-learn in /usr/local/lib/python3.11/dist-packages (1.6.1)\n",
            "Requirement already satisfied: pandas in /usr/local/lib/python3.11/dist-packages (2.2.2)\n",
            "Requirement already satisfied: numpy in /usr/local/lib/python3.11/dist-packages (2.0.2)\n",
            "Requirement already satisfied: matplotlib in /usr/local/lib/python3.11/dist-packages (3.10.0)\n",
            "Requirement already satisfied: seaborn in /usr/local/lib/python3.11/dist-packages (0.13.2)\n",
            "Requirement already satisfied: mpmath<1.4,>=1.1.0 in /usr/local/lib/python3.11/dist-packages (from sympy) (1.3.0)\n",
            "Requirement already satisfied: nvidia-nccl-cu12 in /usr/local/lib/python3.11/dist-packages (from xgboost) (2.21.5)\n",
            "Requirement already satisfied: scipy in /usr/local/lib/python3.11/dist-packages (from xgboost) (1.15.2)\n",
            "Requirement already satisfied: joblib>=1.2.0 in /usr/local/lib/python3.11/dist-packages (from scikit-learn) (1.4.2)\n",
            "Requirement already satisfied: threadpoolctl>=3.1.0 in /usr/local/lib/python3.11/dist-packages (from scikit-learn) (3.6.0)\n",
            "Requirement already satisfied: python-dateutil>=2.8.2 in /usr/local/lib/python3.11/dist-packages (from pandas) (2.9.0.post0)\n",
            "Requirement already satisfied: pytz>=2020.1 in /usr/local/lib/python3.11/dist-packages (from pandas) (2025.2)\n",
            "Requirement already satisfied: tzdata>=2022.7 in /usr/local/lib/python3.11/dist-packages (from pandas) (2025.2)\n",
            "Requirement already satisfied: contourpy>=1.0.1 in /usr/local/lib/python3.11/dist-packages (from matplotlib) (1.3.2)\n",
            "Requirement already satisfied: cycler>=0.10 in /usr/local/lib/python3.11/dist-packages (from matplotlib) (0.12.1)\n",
            "Requirement already satisfied: fonttools>=4.22.0 in /usr/local/lib/python3.11/dist-packages (from matplotlib) (4.57.0)\n",
            "Requirement already satisfied: kiwisolver>=1.3.1 in /usr/local/lib/python3.11/dist-packages (from matplotlib) (1.4.8)\n",
            "Requirement already satisfied: packaging>=20.0 in /usr/local/lib/python3.11/dist-packages (from matplotlib) (24.2)\n",
            "Requirement already satisfied: pillow>=8 in /usr/local/lib/python3.11/dist-packages (from matplotlib) (11.2.1)\n",
            "Requirement already satisfied: pyparsing>=2.3.1 in /usr/local/lib/python3.11/dist-packages (from matplotlib) (3.2.3)\n",
            "Requirement already satisfied: six>=1.5 in /usr/local/lib/python3.11/dist-packages (from python-dateutil>=2.8.2->pandas) (1.17.0)\n"
          ]
        }
      ]
    },
    {
      "cell_type": "markdown",
      "source": [
        "### Step 2: Definição de Parâmetros\n"
      ],
      "metadata": {
        "id": "D_m3dzhRul9H"
      }
    },
    {
      "cell_type": "code",
      "source": [
        "# Número de primos a usar\n",
        "N_PRIMES      = 100_000\n",
        "# Limiar de pico (k·σ) – já validado como k=3\n",
        "K_SIGMA       = 3\n",
        "# Tamanho da janela de gaps\n",
        "WINDOW_SIZE   = 20\n",
        "# Número de folds na validação temporal\n",
        "N_SPLITS      = 5\n",
        "# Hiperparâmetros do XGBRegressor final\n",
        "XGB_PARAMS = {\n",
        "    'n_estimators': 200,\n",
        "    'max_depth':    4,\n",
        "    'learning_rate':0.05,\n",
        "    'random_state': 42,\n",
        "    'verbosity':    0\n",
        "}\n"
      ],
      "metadata": {
        "id": "0Srpp_dbker4"
      },
      "execution_count": 2,
      "outputs": []
    },
    {
      "cell_type": "markdown",
      "source": [
        "### Step 3: Geração de Primos e Cálculo de Gaps\n"
      ],
      "metadata": {
        "id": "Q2-InU24uroA"
      }
    },
    {
      "cell_type": "code",
      "source": [
        "# Gera lista de primos e corta em N_PRIMES\n",
        "primes = np.array(list(primerange(0, 1_500_000)))[:N_PRIMES]\n",
        "# Calcula gaps (diferenças)\n",
        "gaps  = np.diff(primes)\n",
        "print(f\"Último primo usado: {primes[-1]}, total gaps: {len(gaps)}\")\n"
      ],
      "metadata": {
        "colab": {
          "base_uri": "https://localhost:8080/"
        },
        "id": "fkurs_-rkhM6",
        "outputId": "4225e8ea-96df-4ee4-ab51-fe6351cf1ac2"
      },
      "execution_count": 3,
      "outputs": [
        {
          "output_type": "stream",
          "name": "stdout",
          "text": [
            "Último primo usado: 1299709, total gaps: 99999\n"
          ]
        }
      ]
    },
    {
      "cell_type": "markdown",
      "source": [
        "### Step 4: Estatísticas Globais dos Gaps\n"
      ],
      "metadata": {
        "id": "5Rk9QBqluw2N"
      }
    },
    {
      "cell_type": "code",
      "source": [
        "# Desvio global dos gaps\n",
        "sigma_global = np.std(gaps, ddof=0)\n",
        "threshold    = K_SIGMA * sigma_global\n",
        "\n",
        "print(f\"σ_global = {sigma_global:.2f}\")\n",
        "print(f\"Threshold de pico = {threshold:.2f}\")\n"
      ],
      "metadata": {
        "colab": {
          "base_uri": "https://localhost:8080/"
        },
        "id": "N2P0C_bAkjLO",
        "outputId": "3ad1377b-7a49-4727-e9e1-ee5c3a713108"
      },
      "execution_count": 4,
      "outputs": [
        {
          "output_type": "stream",
          "name": "stdout",
          "text": [
            "σ_global = 10.58\n",
            "Threshold de pico = 31.75\n"
          ]
        }
      ]
    },
    {
      "cell_type": "markdown",
      "source": [
        "### Step 5: Seleção de Inícios de Janela (Sliding Window)\n"
      ],
      "metadata": {
        "id": "RdAVvVS-uzbG"
      }
    },
    {
      "cell_type": "code",
      "source": [
        "# Índices válidos para janelas de WINDOW_SIZE gaps\n",
        "starts = np.arange(len(gaps) - WINDOW_SIZE)\n",
        "\n",
        "# (Opcional) filtrar apenas janelas após um pico:\n",
        "# starts = [i for i in starts if gaps[i] > threshold and i <= len(gaps)-WINDOW_SIZE]\n",
        "\n",
        "print(f\"Total de janelas abrange: {len(starts)} posições\")\n"
      ],
      "metadata": {
        "colab": {
          "base_uri": "https://localhost:8080/"
        },
        "id": "_xqW5wGVkoG_",
        "outputId": "9fead530-ca0f-4f00-dd8d-60fc4b0762c8"
      },
      "execution_count": 5,
      "outputs": [
        {
          "output_type": "stream",
          "name": "stdout",
          "text": [
            "Total de janelas abrange: 99979 posições\n"
          ]
        }
      ]
    },
    {
      "cell_type": "markdown",
      "source": [
        "### Step 6: Extração de Features Robustas (Median/MAD)\n"
      ],
      "metadata": {
        "id": "Y2kd-Bgeu19K"
      }
    },
    {
      "cell_type": "code",
      "source": [
        "X, y = [], []\n",
        "\n",
        "for i in starts:\n",
        "    window = gaps[i : i + WINDOW_SIZE]\n",
        "    median_gap = np.median(window)\n",
        "    mad_gap    = median_abs_deviation(window, scale='normal')\n",
        "    X.append([median_gap, mad_gap])\n",
        "    y.append(gaps[i + WINDOW_SIZE])\n",
        "\n",
        "X = pd.DataFrame(X, columns=['Median_Gap','MAD_Gap'])\n",
        "y = pd.Series(y, name='Next_Gap')\n",
        "\n",
        "# Exibição rápida\n",
        "display(X.head(), y.head())\n"
      ],
      "metadata": {
        "colab": {
          "base_uri": "https://localhost:8080/",
          "height": 430
        },
        "id": "ZtpmjfqIkrzS",
        "outputId": "dca387c0-f710-4834-92d2-8f375c46cb17"
      },
      "execution_count": 6,
      "outputs": [
        {
          "output_type": "display_data",
          "data": {
            "text/plain": [
              "   Median_Gap   MAD_Gap\n",
              "0         4.0  2.965204\n",
              "1         4.0  2.965204\n",
              "2         4.0  2.965204\n",
              "3         4.0  2.965204\n",
              "4         4.0  2.965204"
            ],
            "text/html": [
              "\n",
              "  <div id=\"df-286c4094-35a7-4341-87bd-ed0ca14bba9d\" class=\"colab-df-container\">\n",
              "    <div>\n",
              "<style scoped>\n",
              "    .dataframe tbody tr th:only-of-type {\n",
              "        vertical-align: middle;\n",
              "    }\n",
              "\n",
              "    .dataframe tbody tr th {\n",
              "        vertical-align: top;\n",
              "    }\n",
              "\n",
              "    .dataframe thead th {\n",
              "        text-align: right;\n",
              "    }\n",
              "</style>\n",
              "<table border=\"1\" class=\"dataframe\">\n",
              "  <thead>\n",
              "    <tr style=\"text-align: right;\">\n",
              "      <th></th>\n",
              "      <th>Median_Gap</th>\n",
              "      <th>MAD_Gap</th>\n",
              "    </tr>\n",
              "  </thead>\n",
              "  <tbody>\n",
              "    <tr>\n",
              "      <th>0</th>\n",
              "      <td>4.0</td>\n",
              "      <td>2.965204</td>\n",
              "    </tr>\n",
              "    <tr>\n",
              "      <th>1</th>\n",
              "      <td>4.0</td>\n",
              "      <td>2.965204</td>\n",
              "    </tr>\n",
              "    <tr>\n",
              "      <th>2</th>\n",
              "      <td>4.0</td>\n",
              "      <td>2.965204</td>\n",
              "    </tr>\n",
              "    <tr>\n",
              "      <th>3</th>\n",
              "      <td>4.0</td>\n",
              "      <td>2.965204</td>\n",
              "    </tr>\n",
              "    <tr>\n",
              "      <th>4</th>\n",
              "      <td>4.0</td>\n",
              "      <td>2.965204</td>\n",
              "    </tr>\n",
              "  </tbody>\n",
              "</table>\n",
              "</div>\n",
              "    <div class=\"colab-df-buttons\">\n",
              "\n",
              "  <div class=\"colab-df-container\">\n",
              "    <button class=\"colab-df-convert\" onclick=\"convertToInteractive('df-286c4094-35a7-4341-87bd-ed0ca14bba9d')\"\n",
              "            title=\"Convert this dataframe to an interactive table.\"\n",
              "            style=\"display:none;\">\n",
              "\n",
              "  <svg xmlns=\"http://www.w3.org/2000/svg\" height=\"24px\" viewBox=\"0 -960 960 960\">\n",
              "    <path d=\"M120-120v-720h720v720H120Zm60-500h600v-160H180v160Zm220 220h160v-160H400v160Zm0 220h160v-160H400v160ZM180-400h160v-160H180v160Zm440 0h160v-160H620v160ZM180-180h160v-160H180v160Zm440 0h160v-160H620v160Z\"/>\n",
              "  </svg>\n",
              "    </button>\n",
              "\n",
              "  <style>\n",
              "    .colab-df-container {\n",
              "      display:flex;\n",
              "      gap: 12px;\n",
              "    }\n",
              "\n",
              "    .colab-df-convert {\n",
              "      background-color: #E8F0FE;\n",
              "      border: none;\n",
              "      border-radius: 50%;\n",
              "      cursor: pointer;\n",
              "      display: none;\n",
              "      fill: #1967D2;\n",
              "      height: 32px;\n",
              "      padding: 0 0 0 0;\n",
              "      width: 32px;\n",
              "    }\n",
              "\n",
              "    .colab-df-convert:hover {\n",
              "      background-color: #E2EBFA;\n",
              "      box-shadow: 0px 1px 2px rgba(60, 64, 67, 0.3), 0px 1px 3px 1px rgba(60, 64, 67, 0.15);\n",
              "      fill: #174EA6;\n",
              "    }\n",
              "\n",
              "    .colab-df-buttons div {\n",
              "      margin-bottom: 4px;\n",
              "    }\n",
              "\n",
              "    [theme=dark] .colab-df-convert {\n",
              "      background-color: #3B4455;\n",
              "      fill: #D2E3FC;\n",
              "    }\n",
              "\n",
              "    [theme=dark] .colab-df-convert:hover {\n",
              "      background-color: #434B5C;\n",
              "      box-shadow: 0px 1px 3px 1px rgba(0, 0, 0, 0.15);\n",
              "      filter: drop-shadow(0px 1px 2px rgba(0, 0, 0, 0.3));\n",
              "      fill: #FFFFFF;\n",
              "    }\n",
              "  </style>\n",
              "\n",
              "    <script>\n",
              "      const buttonEl =\n",
              "        document.querySelector('#df-286c4094-35a7-4341-87bd-ed0ca14bba9d button.colab-df-convert');\n",
              "      buttonEl.style.display =\n",
              "        google.colab.kernel.accessAllowed ? 'block' : 'none';\n",
              "\n",
              "      async function convertToInteractive(key) {\n",
              "        const element = document.querySelector('#df-286c4094-35a7-4341-87bd-ed0ca14bba9d');\n",
              "        const dataTable =\n",
              "          await google.colab.kernel.invokeFunction('convertToInteractive',\n",
              "                                                    [key], {});\n",
              "        if (!dataTable) return;\n",
              "\n",
              "        const docLinkHtml = 'Like what you see? Visit the ' +\n",
              "          '<a target=\"_blank\" href=https://colab.research.google.com/notebooks/data_table.ipynb>data table notebook</a>'\n",
              "          + ' to learn more about interactive tables.';\n",
              "        element.innerHTML = '';\n",
              "        dataTable['output_type'] = 'display_data';\n",
              "        await google.colab.output.renderOutput(dataTable, element);\n",
              "        const docLink = document.createElement('div');\n",
              "        docLink.innerHTML = docLinkHtml;\n",
              "        element.appendChild(docLink);\n",
              "      }\n",
              "    </script>\n",
              "  </div>\n",
              "\n",
              "\n",
              "    <div id=\"df-069bd1a2-22d8-43bd-b445-cb502e2a24f1\">\n",
              "      <button class=\"colab-df-quickchart\" onclick=\"quickchart('df-069bd1a2-22d8-43bd-b445-cb502e2a24f1')\"\n",
              "                title=\"Suggest charts\"\n",
              "                style=\"display:none;\">\n",
              "\n",
              "<svg xmlns=\"http://www.w3.org/2000/svg\" height=\"24px\"viewBox=\"0 0 24 24\"\n",
              "     width=\"24px\">\n",
              "    <g>\n",
              "        <path d=\"M19 3H5c-1.1 0-2 .9-2 2v14c0 1.1.9 2 2 2h14c1.1 0 2-.9 2-2V5c0-1.1-.9-2-2-2zM9 17H7v-7h2v7zm4 0h-2V7h2v10zm4 0h-2v-4h2v4z\"/>\n",
              "    </g>\n",
              "</svg>\n",
              "      </button>\n",
              "\n",
              "<style>\n",
              "  .colab-df-quickchart {\n",
              "      --bg-color: #E8F0FE;\n",
              "      --fill-color: #1967D2;\n",
              "      --hover-bg-color: #E2EBFA;\n",
              "      --hover-fill-color: #174EA6;\n",
              "      --disabled-fill-color: #AAA;\n",
              "      --disabled-bg-color: #DDD;\n",
              "  }\n",
              "\n",
              "  [theme=dark] .colab-df-quickchart {\n",
              "      --bg-color: #3B4455;\n",
              "      --fill-color: #D2E3FC;\n",
              "      --hover-bg-color: #434B5C;\n",
              "      --hover-fill-color: #FFFFFF;\n",
              "      --disabled-bg-color: #3B4455;\n",
              "      --disabled-fill-color: #666;\n",
              "  }\n",
              "\n",
              "  .colab-df-quickchart {\n",
              "    background-color: var(--bg-color);\n",
              "    border: none;\n",
              "    border-radius: 50%;\n",
              "    cursor: pointer;\n",
              "    display: none;\n",
              "    fill: var(--fill-color);\n",
              "    height: 32px;\n",
              "    padding: 0;\n",
              "    width: 32px;\n",
              "  }\n",
              "\n",
              "  .colab-df-quickchart:hover {\n",
              "    background-color: var(--hover-bg-color);\n",
              "    box-shadow: 0 1px 2px rgba(60, 64, 67, 0.3), 0 1px 3px 1px rgba(60, 64, 67, 0.15);\n",
              "    fill: var(--button-hover-fill-color);\n",
              "  }\n",
              "\n",
              "  .colab-df-quickchart-complete:disabled,\n",
              "  .colab-df-quickchart-complete:disabled:hover {\n",
              "    background-color: var(--disabled-bg-color);\n",
              "    fill: var(--disabled-fill-color);\n",
              "    box-shadow: none;\n",
              "  }\n",
              "\n",
              "  .colab-df-spinner {\n",
              "    border: 2px solid var(--fill-color);\n",
              "    border-color: transparent;\n",
              "    border-bottom-color: var(--fill-color);\n",
              "    animation:\n",
              "      spin 1s steps(1) infinite;\n",
              "  }\n",
              "\n",
              "  @keyframes spin {\n",
              "    0% {\n",
              "      border-color: transparent;\n",
              "      border-bottom-color: var(--fill-color);\n",
              "      border-left-color: var(--fill-color);\n",
              "    }\n",
              "    20% {\n",
              "      border-color: transparent;\n",
              "      border-left-color: var(--fill-color);\n",
              "      border-top-color: var(--fill-color);\n",
              "    }\n",
              "    30% {\n",
              "      border-color: transparent;\n",
              "      border-left-color: var(--fill-color);\n",
              "      border-top-color: var(--fill-color);\n",
              "      border-right-color: var(--fill-color);\n",
              "    }\n",
              "    40% {\n",
              "      border-color: transparent;\n",
              "      border-right-color: var(--fill-color);\n",
              "      border-top-color: var(--fill-color);\n",
              "    }\n",
              "    60% {\n",
              "      border-color: transparent;\n",
              "      border-right-color: var(--fill-color);\n",
              "    }\n",
              "    80% {\n",
              "      border-color: transparent;\n",
              "      border-right-color: var(--fill-color);\n",
              "      border-bottom-color: var(--fill-color);\n",
              "    }\n",
              "    90% {\n",
              "      border-color: transparent;\n",
              "      border-bottom-color: var(--fill-color);\n",
              "    }\n",
              "  }\n",
              "</style>\n",
              "\n",
              "      <script>\n",
              "        async function quickchart(key) {\n",
              "          const quickchartButtonEl =\n",
              "            document.querySelector('#' + key + ' button');\n",
              "          quickchartButtonEl.disabled = true;  // To prevent multiple clicks.\n",
              "          quickchartButtonEl.classList.add('colab-df-spinner');\n",
              "          try {\n",
              "            const charts = await google.colab.kernel.invokeFunction(\n",
              "                'suggestCharts', [key], {});\n",
              "          } catch (error) {\n",
              "            console.error('Error during call to suggestCharts:', error);\n",
              "          }\n",
              "          quickchartButtonEl.classList.remove('colab-df-spinner');\n",
              "          quickchartButtonEl.classList.add('colab-df-quickchart-complete');\n",
              "        }\n",
              "        (() => {\n",
              "          let quickchartButtonEl =\n",
              "            document.querySelector('#df-069bd1a2-22d8-43bd-b445-cb502e2a24f1 button');\n",
              "          quickchartButtonEl.style.display =\n",
              "            google.colab.kernel.accessAllowed ? 'block' : 'none';\n",
              "        })();\n",
              "      </script>\n",
              "    </div>\n",
              "\n",
              "    </div>\n",
              "  </div>\n"
            ],
            "application/vnd.google.colaboratory.intrinsic+json": {
              "type": "dataframe",
              "summary": "{\n  \"name\": \"display(X\",\n  \"rows\": 5,\n  \"fields\": [\n    {\n      \"column\": \"Median_Gap\",\n      \"properties\": {\n        \"dtype\": \"number\",\n        \"std\": 0.0,\n        \"min\": 4.0,\n        \"max\": 4.0,\n        \"num_unique_values\": 1,\n        \"samples\": [\n          4.0\n        ],\n        \"semantic_type\": \"\",\n        \"description\": \"\"\n      }\n    },\n    {\n      \"column\": \"MAD_Gap\",\n      \"properties\": {\n        \"dtype\": \"number\",\n        \"std\": 0.0,\n        \"min\": 2.965204437011204,\n        \"max\": 2.965204437011204,\n        \"num_unique_values\": 1,\n        \"samples\": [\n          2.965204437011204\n        ],\n        \"semantic_type\": \"\",\n        \"description\": \"\"\n      }\n    }\n  ]\n}"
            }
          },
          "metadata": {}
        },
        {
          "output_type": "display_data",
          "data": {
            "text/plain": [
              "0    6\n",
              "1    4\n",
              "2    6\n",
              "3    8\n",
              "4    4\n",
              "Name: Next_Gap, dtype: int64"
            ],
            "text/html": [
              "<div>\n",
              "<style scoped>\n",
              "    .dataframe tbody tr th:only-of-type {\n",
              "        vertical-align: middle;\n",
              "    }\n",
              "\n",
              "    .dataframe tbody tr th {\n",
              "        vertical-align: top;\n",
              "    }\n",
              "\n",
              "    .dataframe thead th {\n",
              "        text-align: right;\n",
              "    }\n",
              "</style>\n",
              "<table border=\"1\" class=\"dataframe\">\n",
              "  <thead>\n",
              "    <tr style=\"text-align: right;\">\n",
              "      <th></th>\n",
              "      <th>Next_Gap</th>\n",
              "    </tr>\n",
              "  </thead>\n",
              "  <tbody>\n",
              "    <tr>\n",
              "      <th>0</th>\n",
              "      <td>6</td>\n",
              "    </tr>\n",
              "    <tr>\n",
              "      <th>1</th>\n",
              "      <td>4</td>\n",
              "    </tr>\n",
              "    <tr>\n",
              "      <th>2</th>\n",
              "      <td>6</td>\n",
              "    </tr>\n",
              "    <tr>\n",
              "      <th>3</th>\n",
              "      <td>8</td>\n",
              "    </tr>\n",
              "    <tr>\n",
              "      <th>4</th>\n",
              "      <td>4</td>\n",
              "    </tr>\n",
              "  </tbody>\n",
              "</table>\n",
              "</div><br><label><b>dtype:</b> int64</label>"
            ]
          },
          "metadata": {}
        }
      ]
    },
    {
      "cell_type": "markdown",
      "source": [
        "### Step 7: Validação Cruzada e Treinamento (Baseline)\n"
      ],
      "metadata": {
        "id": "fcPGcghdu5rD"
      }
    },
    {
      "cell_type": "code",
      "source": [
        "tscv = TimeSeriesSplit(n_splits=N_SPLITS)\n",
        "maes, rmses, importances = [], [], []\n",
        "\n",
        "for tr, te in tscv.split(X):\n",
        "    model = XGBRegressor(**XGB_PARAMS)\n",
        "    model.fit( X.iloc[tr], y.iloc[tr] )\n",
        "    pred = model.predict( X.iloc[te] )\n",
        "\n",
        "    maes.append( mean_absolute_error( y.iloc[te], pred ) )\n",
        "    rmse = np.sqrt( mean_squared_error( y.iloc[te], pred ) )\n",
        "    rmses.append( rmse )\n",
        "\n",
        "    importances.append( model.feature_importances_ )\n",
        "\n",
        "print(\"Treinamento e validação concluídos.\")\n"
      ],
      "metadata": {
        "colab": {
          "base_uri": "https://localhost:8080/"
        },
        "id": "_4cekR7okvNG",
        "outputId": "4db6d346-5ca0-44b0-e8b6-527b402613ae"
      },
      "execution_count": 7,
      "outputs": [
        {
          "output_type": "stream",
          "name": "stdout",
          "text": [
            "Treinamento e validação concluídos.\n"
          ]
        }
      ]
    },
    {
      "cell_type": "markdown",
      "source": [
        "### Step 8: Cálculo de Métricas e Importâncias\n"
      ],
      "metadata": {
        "id": "-yv47Gzju8SJ"
      }
    },
    {
      "cell_type": "code",
      "source": [
        "print(f\"MAE:  {np.mean(maes):.3f} ± {np.std(maes):.3f}\")\n",
        "print(f\"RMSE: {np.mean(rmses):.3f} ± {np.std(rmses):.3f}\")\n",
        "\n",
        "imp_df = pd.DataFrame(importances, columns=['Median_Gap','MAD_Gap']).mean().reset_index()\n",
        "imp_df.columns = ['Feature','Importance']\n",
        "display(imp_df)\n"
      ],
      "metadata": {
        "colab": {
          "base_uri": "https://localhost:8080/",
          "height": 161
        },
        "id": "Bt-fNiymkxvo",
        "outputId": "21186588-b954-41ab-cfba-6f9d43866fda"
      },
      "execution_count": 8,
      "outputs": [
        {
          "output_type": "stream",
          "name": "stdout",
          "text": [
            "MAE:  7.888 ± 0.402\n",
            "RMSE: 10.956 ± 0.509\n"
          ]
        },
        {
          "output_type": "display_data",
          "data": {
            "text/plain": [
              "      Feature  Importance\n",
              "0  Median_Gap    0.514194\n",
              "1     MAD_Gap    0.485806"
            ],
            "text/html": [
              "\n",
              "  <div id=\"df-640c7b46-683f-4fa3-9793-209f1b4f66ce\" class=\"colab-df-container\">\n",
              "    <div>\n",
              "<style scoped>\n",
              "    .dataframe tbody tr th:only-of-type {\n",
              "        vertical-align: middle;\n",
              "    }\n",
              "\n",
              "    .dataframe tbody tr th {\n",
              "        vertical-align: top;\n",
              "    }\n",
              "\n",
              "    .dataframe thead th {\n",
              "        text-align: right;\n",
              "    }\n",
              "</style>\n",
              "<table border=\"1\" class=\"dataframe\">\n",
              "  <thead>\n",
              "    <tr style=\"text-align: right;\">\n",
              "      <th></th>\n",
              "      <th>Feature</th>\n",
              "      <th>Importance</th>\n",
              "    </tr>\n",
              "  </thead>\n",
              "  <tbody>\n",
              "    <tr>\n",
              "      <th>0</th>\n",
              "      <td>Median_Gap</td>\n",
              "      <td>0.514194</td>\n",
              "    </tr>\n",
              "    <tr>\n",
              "      <th>1</th>\n",
              "      <td>MAD_Gap</td>\n",
              "      <td>0.485806</td>\n",
              "    </tr>\n",
              "  </tbody>\n",
              "</table>\n",
              "</div>\n",
              "    <div class=\"colab-df-buttons\">\n",
              "\n",
              "  <div class=\"colab-df-container\">\n",
              "    <button class=\"colab-df-convert\" onclick=\"convertToInteractive('df-640c7b46-683f-4fa3-9793-209f1b4f66ce')\"\n",
              "            title=\"Convert this dataframe to an interactive table.\"\n",
              "            style=\"display:none;\">\n",
              "\n",
              "  <svg xmlns=\"http://www.w3.org/2000/svg\" height=\"24px\" viewBox=\"0 -960 960 960\">\n",
              "    <path d=\"M120-120v-720h720v720H120Zm60-500h600v-160H180v160Zm220 220h160v-160H400v160Zm0 220h160v-160H400v160ZM180-400h160v-160H180v160Zm440 0h160v-160H620v160ZM180-180h160v-160H180v160Zm440 0h160v-160H620v160Z\"/>\n",
              "  </svg>\n",
              "    </button>\n",
              "\n",
              "  <style>\n",
              "    .colab-df-container {\n",
              "      display:flex;\n",
              "      gap: 12px;\n",
              "    }\n",
              "\n",
              "    .colab-df-convert {\n",
              "      background-color: #E8F0FE;\n",
              "      border: none;\n",
              "      border-radius: 50%;\n",
              "      cursor: pointer;\n",
              "      display: none;\n",
              "      fill: #1967D2;\n",
              "      height: 32px;\n",
              "      padding: 0 0 0 0;\n",
              "      width: 32px;\n",
              "    }\n",
              "\n",
              "    .colab-df-convert:hover {\n",
              "      background-color: #E2EBFA;\n",
              "      box-shadow: 0px 1px 2px rgba(60, 64, 67, 0.3), 0px 1px 3px 1px rgba(60, 64, 67, 0.15);\n",
              "      fill: #174EA6;\n",
              "    }\n",
              "\n",
              "    .colab-df-buttons div {\n",
              "      margin-bottom: 4px;\n",
              "    }\n",
              "\n",
              "    [theme=dark] .colab-df-convert {\n",
              "      background-color: #3B4455;\n",
              "      fill: #D2E3FC;\n",
              "    }\n",
              "\n",
              "    [theme=dark] .colab-df-convert:hover {\n",
              "      background-color: #434B5C;\n",
              "      box-shadow: 0px 1px 3px 1px rgba(0, 0, 0, 0.15);\n",
              "      filter: drop-shadow(0px 1px 2px rgba(0, 0, 0, 0.3));\n",
              "      fill: #FFFFFF;\n",
              "    }\n",
              "  </style>\n",
              "\n",
              "    <script>\n",
              "      const buttonEl =\n",
              "        document.querySelector('#df-640c7b46-683f-4fa3-9793-209f1b4f66ce button.colab-df-convert');\n",
              "      buttonEl.style.display =\n",
              "        google.colab.kernel.accessAllowed ? 'block' : 'none';\n",
              "\n",
              "      async function convertToInteractive(key) {\n",
              "        const element = document.querySelector('#df-640c7b46-683f-4fa3-9793-209f1b4f66ce');\n",
              "        const dataTable =\n",
              "          await google.colab.kernel.invokeFunction('convertToInteractive',\n",
              "                                                    [key], {});\n",
              "        if (!dataTable) return;\n",
              "\n",
              "        const docLinkHtml = 'Like what you see? Visit the ' +\n",
              "          '<a target=\"_blank\" href=https://colab.research.google.com/notebooks/data_table.ipynb>data table notebook</a>'\n",
              "          + ' to learn more about interactive tables.';\n",
              "        element.innerHTML = '';\n",
              "        dataTable['output_type'] = 'display_data';\n",
              "        await google.colab.output.renderOutput(dataTable, element);\n",
              "        const docLink = document.createElement('div');\n",
              "        docLink.innerHTML = docLinkHtml;\n",
              "        element.appendChild(docLink);\n",
              "      }\n",
              "    </script>\n",
              "  </div>\n",
              "\n",
              "\n",
              "    <div id=\"df-c21a9351-e029-40e0-98c4-faf4842c7a3a\">\n",
              "      <button class=\"colab-df-quickchart\" onclick=\"quickchart('df-c21a9351-e029-40e0-98c4-faf4842c7a3a')\"\n",
              "                title=\"Suggest charts\"\n",
              "                style=\"display:none;\">\n",
              "\n",
              "<svg xmlns=\"http://www.w3.org/2000/svg\" height=\"24px\"viewBox=\"0 0 24 24\"\n",
              "     width=\"24px\">\n",
              "    <g>\n",
              "        <path d=\"M19 3H5c-1.1 0-2 .9-2 2v14c0 1.1.9 2 2 2h14c1.1 0 2-.9 2-2V5c0-1.1-.9-2-2-2zM9 17H7v-7h2v7zm4 0h-2V7h2v10zm4 0h-2v-4h2v4z\"/>\n",
              "    </g>\n",
              "</svg>\n",
              "      </button>\n",
              "\n",
              "<style>\n",
              "  .colab-df-quickchart {\n",
              "      --bg-color: #E8F0FE;\n",
              "      --fill-color: #1967D2;\n",
              "      --hover-bg-color: #E2EBFA;\n",
              "      --hover-fill-color: #174EA6;\n",
              "      --disabled-fill-color: #AAA;\n",
              "      --disabled-bg-color: #DDD;\n",
              "  }\n",
              "\n",
              "  [theme=dark] .colab-df-quickchart {\n",
              "      --bg-color: #3B4455;\n",
              "      --fill-color: #D2E3FC;\n",
              "      --hover-bg-color: #434B5C;\n",
              "      --hover-fill-color: #FFFFFF;\n",
              "      --disabled-bg-color: #3B4455;\n",
              "      --disabled-fill-color: #666;\n",
              "  }\n",
              "\n",
              "  .colab-df-quickchart {\n",
              "    background-color: var(--bg-color);\n",
              "    border: none;\n",
              "    border-radius: 50%;\n",
              "    cursor: pointer;\n",
              "    display: none;\n",
              "    fill: var(--fill-color);\n",
              "    height: 32px;\n",
              "    padding: 0;\n",
              "    width: 32px;\n",
              "  }\n",
              "\n",
              "  .colab-df-quickchart:hover {\n",
              "    background-color: var(--hover-bg-color);\n",
              "    box-shadow: 0 1px 2px rgba(60, 64, 67, 0.3), 0 1px 3px 1px rgba(60, 64, 67, 0.15);\n",
              "    fill: var(--button-hover-fill-color);\n",
              "  }\n",
              "\n",
              "  .colab-df-quickchart-complete:disabled,\n",
              "  .colab-df-quickchart-complete:disabled:hover {\n",
              "    background-color: var(--disabled-bg-color);\n",
              "    fill: var(--disabled-fill-color);\n",
              "    box-shadow: none;\n",
              "  }\n",
              "\n",
              "  .colab-df-spinner {\n",
              "    border: 2px solid var(--fill-color);\n",
              "    border-color: transparent;\n",
              "    border-bottom-color: var(--fill-color);\n",
              "    animation:\n",
              "      spin 1s steps(1) infinite;\n",
              "  }\n",
              "\n",
              "  @keyframes spin {\n",
              "    0% {\n",
              "      border-color: transparent;\n",
              "      border-bottom-color: var(--fill-color);\n",
              "      border-left-color: var(--fill-color);\n",
              "    }\n",
              "    20% {\n",
              "      border-color: transparent;\n",
              "      border-left-color: var(--fill-color);\n",
              "      border-top-color: var(--fill-color);\n",
              "    }\n",
              "    30% {\n",
              "      border-color: transparent;\n",
              "      border-left-color: var(--fill-color);\n",
              "      border-top-color: var(--fill-color);\n",
              "      border-right-color: var(--fill-color);\n",
              "    }\n",
              "    40% {\n",
              "      border-color: transparent;\n",
              "      border-right-color: var(--fill-color);\n",
              "      border-top-color: var(--fill-color);\n",
              "    }\n",
              "    60% {\n",
              "      border-color: transparent;\n",
              "      border-right-color: var(--fill-color);\n",
              "    }\n",
              "    80% {\n",
              "      border-color: transparent;\n",
              "      border-right-color: var(--fill-color);\n",
              "      border-bottom-color: var(--fill-color);\n",
              "    }\n",
              "    90% {\n",
              "      border-color: transparent;\n",
              "      border-bottom-color: var(--fill-color);\n",
              "    }\n",
              "  }\n",
              "</style>\n",
              "\n",
              "      <script>\n",
              "        async function quickchart(key) {\n",
              "          const quickchartButtonEl =\n",
              "            document.querySelector('#' + key + ' button');\n",
              "          quickchartButtonEl.disabled = true;  // To prevent multiple clicks.\n",
              "          quickchartButtonEl.classList.add('colab-df-spinner');\n",
              "          try {\n",
              "            const charts = await google.colab.kernel.invokeFunction(\n",
              "                'suggestCharts', [key], {});\n",
              "          } catch (error) {\n",
              "            console.error('Error during call to suggestCharts:', error);\n",
              "          }\n",
              "          quickchartButtonEl.classList.remove('colab-df-spinner');\n",
              "          quickchartButtonEl.classList.add('colab-df-quickchart-complete');\n",
              "        }\n",
              "        (() => {\n",
              "          let quickchartButtonEl =\n",
              "            document.querySelector('#df-c21a9351-e029-40e0-98c4-faf4842c7a3a button');\n",
              "          quickchartButtonEl.style.display =\n",
              "            google.colab.kernel.accessAllowed ? 'block' : 'none';\n",
              "        })();\n",
              "      </script>\n",
              "    </div>\n",
              "\n",
              "  <div id=\"id_b879097d-44ed-426e-b33a-9aeb1d3083ca\">\n",
              "    <style>\n",
              "      .colab-df-generate {\n",
              "        background-color: #E8F0FE;\n",
              "        border: none;\n",
              "        border-radius: 50%;\n",
              "        cursor: pointer;\n",
              "        display: none;\n",
              "        fill: #1967D2;\n",
              "        height: 32px;\n",
              "        padding: 0 0 0 0;\n",
              "        width: 32px;\n",
              "      }\n",
              "\n",
              "      .colab-df-generate:hover {\n",
              "        background-color: #E2EBFA;\n",
              "        box-shadow: 0px 1px 2px rgba(60, 64, 67, 0.3), 0px 1px 3px 1px rgba(60, 64, 67, 0.15);\n",
              "        fill: #174EA6;\n",
              "      }\n",
              "\n",
              "      [theme=dark] .colab-df-generate {\n",
              "        background-color: #3B4455;\n",
              "        fill: #D2E3FC;\n",
              "      }\n",
              "\n",
              "      [theme=dark] .colab-df-generate:hover {\n",
              "        background-color: #434B5C;\n",
              "        box-shadow: 0px 1px 3px 1px rgba(0, 0, 0, 0.15);\n",
              "        filter: drop-shadow(0px 1px 2px rgba(0, 0, 0, 0.3));\n",
              "        fill: #FFFFFF;\n",
              "      }\n",
              "    </style>\n",
              "    <button class=\"colab-df-generate\" onclick=\"generateWithVariable('imp_df')\"\n",
              "            title=\"Generate code using this dataframe.\"\n",
              "            style=\"display:none;\">\n",
              "\n",
              "  <svg xmlns=\"http://www.w3.org/2000/svg\" height=\"24px\"viewBox=\"0 0 24 24\"\n",
              "       width=\"24px\">\n",
              "    <path d=\"M7,19H8.4L18.45,9,17,7.55,7,17.6ZM5,21V16.75L18.45,3.32a2,2,0,0,1,2.83,0l1.4,1.43a1.91,1.91,0,0,1,.58,1.4,1.91,1.91,0,0,1-.58,1.4L9.25,21ZM18.45,9,17,7.55Zm-12,3A5.31,5.31,0,0,0,4.9,8.1,5.31,5.31,0,0,0,1,6.5,5.31,5.31,0,0,0,4.9,4.9,5.31,5.31,0,0,0,6.5,1,5.31,5.31,0,0,0,8.1,4.9,5.31,5.31,0,0,0,12,6.5,5.46,5.46,0,0,0,6.5,12Z\"/>\n",
              "  </svg>\n",
              "    </button>\n",
              "    <script>\n",
              "      (() => {\n",
              "      const buttonEl =\n",
              "        document.querySelector('#id_b879097d-44ed-426e-b33a-9aeb1d3083ca button.colab-df-generate');\n",
              "      buttonEl.style.display =\n",
              "        google.colab.kernel.accessAllowed ? 'block' : 'none';\n",
              "\n",
              "      buttonEl.onclick = () => {\n",
              "        google.colab.notebook.generateWithVariable('imp_df');\n",
              "      }\n",
              "      })();\n",
              "    </script>\n",
              "  </div>\n",
              "\n",
              "    </div>\n",
              "  </div>\n"
            ],
            "application/vnd.google.colaboratory.intrinsic+json": {
              "type": "dataframe",
              "variable_name": "imp_df",
              "summary": "{\n  \"name\": \"imp_df\",\n  \"rows\": 2,\n  \"fields\": [\n    {\n      \"column\": \"Feature\",\n      \"properties\": {\n        \"dtype\": \"string\",\n        \"num_unique_values\": 2,\n        \"samples\": [\n          \"MAD_Gap\",\n          \"Median_Gap\"\n        ],\n        \"semantic_type\": \"\",\n        \"description\": \"\"\n      }\n    },\n    {\n      \"column\": \"Importance\",\n      \"properties\": {\n        \"dtype\": \"float32\",\n        \"num_unique_values\": 2,\n        \"samples\": [\n          0.4858061671257019,\n          0.5141938328742981\n        ],\n        \"semantic_type\": \"\",\n        \"description\": \"\"\n      }\n    }\n  ]\n}"
            }
          },
          "metadata": {}
        }
      ]
    },
    {
      "cell_type": "markdown",
      "source": [
        "## 8b) Interpretação dos Resultados\n",
        "\n",
        "Após treinamento e validação com TimeSeriesSplit, obtemos:\n",
        "\n",
        "- **MAE médio**: 7.888 ± 0.402  \n",
        "- **RMSE médio**: 10.956 ± 0.509  \n",
        "\n",
        "Isso significa que, em média, nosso modelo erra em aproximadamente 7.9 unidades de gap, com desvio de ~0.4, e o erro quadrático médio fica em torno de 11.\n",
        "\n",
        "As **importâncias de feature** foram:\n",
        "\n",
        "| Feature     | Importance |\n",
        "|-------------|------------|\n",
        "| Median_Gap  | 0.514      |\n",
        "| MAD_Gap     | 0.486      |\n",
        "\n",
        "Ou seja, as duas estatísticas robustas—mediana do gap e desvio médio absoluto—contribuem quase igualmente para a predição, reforçando que o pipeline se beneficia de atributos resistentes a outliers.\n",
        "\n",
        "A seguir, exploramos a **distribuição** dessas features para entender melhor sua variabilidade.\n"
      ],
      "metadata": {
        "id": "esL0CbOzqsYD"
      }
    },
    {
      "cell_type": "code",
      "source": [
        "plt.figure(figsize=(8,4))\n",
        "plt.plot(maes, marker='o', label='MAE')\n",
        "plt.plot(rmses, marker='s', label='RMSE')\n",
        "plt.title(\"Desempenho por Fold (TimeSeriesSplit)\")\n",
        "plt.xlabel(\"Fold\")\n",
        "plt.ylabel(\"Erro\")\n",
        "plt.legend()\n",
        "plt.grid(True)\n",
        "plt.show()\n"
      ],
      "metadata": {
        "colab": {
          "base_uri": "https://localhost:8080/",
          "height": 397
        },
        "id": "o6a3yO3ZkzNB",
        "outputId": "2bdca5b6-9fc9-445e-ffbc-c83484c59d6b"
      },
      "execution_count": 9,
      "outputs": [
        {
          "output_type": "display_data",
          "data": {
            "text/plain": [
              "<Figure size 800x400 with 1 Axes>"
            ],
            "image/png": "[encoded data removed]"
          },
          "metadata": {}
        }
      ]
    },
    {
      "cell_type": "markdown",
      "source": [
        "### Step 9: Plotagem das Distribuições das Features\n"
      ],
      "metadata": {
        "id": "IP0IynSwvIcP"
      }
    },
    {
      "cell_type": "code",
      "source": [
        "fig, axs = plt.subplots(1, 2, figsize=(12,4))\n",
        "sns.histplot(X['Median_Gap'], kde=True, ax=axs[0]).set(title='Distribuição de Median_Gap')\n",
        "sns.histplot(X['MAD_Gap'],    kde=True, ax=axs[1]).set(title='Distribuição de MAD_Gap')\n",
        "plt.tight_layout()\n",
        "plt.show()\n"
      ],
      "metadata": {
        "colab": {
          "base_uri": "https://localhost:8080/",
          "height": 235
        },
        "id": "ewLYFJ69k0k4",
        "outputId": "5d5c6764-a817-43ea-a3a0-d601048a3402"
      },
      "execution_count": 10,
      "outputs": [
        {
          "output_type": "display_data",
          "data": {
            "text/plain": [
              "<Figure size 1200x400 with 2 Axes>"
            ],
            "image/png": "[encoded data removed]"
          },
          "metadata": {}
        }
      ]
    },
    {
      "cell_type": "markdown",
      "source": [
        "### Step 10: Salvamento do Modelo Final\n"
      ],
      "metadata": {
        "id": "u_broYoFvMxG"
      }
    },
    {
      "cell_type": "code",
      "source": [
        "# Treina com todos os dados\n",
        "final_model = XGBRegressor(**XGB_PARAMS)\n",
        "final_model.fit(X, y)\n",
        "\n",
        "# Salva em disco\n",
        "final_model.save_model('prime_gap_model.json')\n",
        "print(\"Modelo salvo em prime_gap_model.json\")\n"
      ],
      "metadata": {
        "colab": {
          "base_uri": "https://localhost:8080/"
        },
        "id": "sWA3C-5Ek18a",
        "outputId": "4fb5cb0e-5514-446f-f666-1b4dd3d9fd25"
      },
      "execution_count": 11,
      "outputs": [
        {
          "output_type": "stream",
          "name": "stdout",
          "text": [
            "Modelo salvo em prime_gap_model.json\n"
          ]
        }
      ]
    },
    {
      "cell_type": "markdown",
      "source": [
        "### Step 11: Otimização de Hiperparâmetros com RandomizedSearchCV\n"
      ],
      "metadata": {
        "id": "-lsFNpvovPa-"
      }
    },
    {
      "cell_type": "code",
      "source": [
        "# Step 11: Otimização de Hiperparâmetros com RandomizedSearchCV\n",
        "\n",
        "from sklearn.model_selection import RandomizedSearchCV  # 🔀 adicione este import\n",
        "\n",
        "# Já deve existir:\n",
        "# from xgboost import XGBRegressor\n",
        "# from sklearn.model_selection import TimeSeriesSplit\n",
        "# tscv = TimeSeriesSplit(n_splits=N_SPLITS)\n",
        "\n",
        "param_dist = {\n",
        "    'n_estimators':     [100, 200, 300],\n",
        "    'max_depth':        [3, 4, 5],\n",
        "    'learning_rate':    [0.01, 0.05, 0.1],\n",
        "    'subsample':        [0.6, 0.8, 1.0],\n",
        "    'colsample_bytree': [0.6, 0.8, 1.0]\n",
        "}\n",
        "\n",
        "rs = RandomizedSearchCV(\n",
        "    estimator=XGBRegressor(random_state=42, verbosity=0),\n",
        "    param_distributions=param_dist,\n",
        "    n_iter=20,\n",
        "    scoring='neg_mean_absolute_error',\n",
        "    cv=tscv,\n",
        "    random_state=42,\n",
        "    n_jobs=-1,\n",
        "    return_train_score=False\n",
        ")\n",
        "\n",
        "rs.fit(X, y)\n",
        "\n",
        "print(\"🏆 Melhores hiperparâmetros:\")\n",
        "for k, v in rs.best_params_.items():\n",
        "    print(f\"  {k}: {v}\")\n",
        "print(f\"\\nMAE CV (best): {-rs.best_score_:.3f}\")\n",
        "\n",
        "best_model = rs.best_estimator_\n",
        "best_model.save_model('prime_gap_model_tuned.json')\n",
        "print(\"✔️ Modelo ajustado salvo em prime_gap_model_tuned.json\")\n"
      ],
      "metadata": {
        "colab": {
          "base_uri": "https://localhost:8080/"
        },
        "id": "Q4cNGFKXvQMz",
        "outputId": "5cabf9fc-19d3-49e0-9a42-67c6ec6aae18"
      },
      "execution_count": 12,
      "outputs": [
        {
          "output_type": "stream",
          "name": "stdout",
          "text": [
            "🏆 Melhores hiperparâmetros:\n",
            "  subsample: 0.6\n",
            "  n_estimators: 300\n",
            "  max_depth: 3\n",
            "  learning_rate: 0.01\n",
            "  colsample_bytree: 0.6\n",
            "\n",
            "MAE CV (best): 7.879\n",
            "✔️ Modelo ajustado salvo em prime_gap_model_tuned.json\n"
          ]
        }
      ]
    },
    {
      "cell_type": "markdown",
      "source": [
        "### Step 11b: Avaliação do Modelo Ajustado\n",
        "\n",
        "Compare o MAE CV (best) acima com o MAE médio do Baseline (Step 8).  \n",
        "Se houver melhoria, use `prime_gap_model_tuned.json` nas próximas análises.\n"
      ],
      "metadata": {
        "id": "wSbTkEsavU8q"
      }
    },
    {
      "cell_type": "code",
      "source": [
        "# 11b) Avaliação do Modelo Ajustado – Célula de Código\n",
        "from xgboost import XGBRegressor\n",
        "\n",
        "# Recarrega o modelo ajustado\n",
        "tuned_model = XGBRegressor()\n",
        "tuned_model.load_model('prime_gap_model_tuned.json')\n",
        "\n",
        "# Reavalia com TimeSeriesSplit\n",
        "maes_t, rmses_t = [], []\n",
        "for tr, te in tscv.split(X):\n",
        "    tuned_model.fit(X.iloc[tr], y.iloc[tr])  # opcional: usar load_model + predict direto, mas\n",
        "                                              # precisamos treinar internamente pra compatibilidade\n",
        "    pred_t = tuned_model.predict(X.iloc[te])\n",
        "    maes_t.append( mean_absolute_error(y.iloc[te], pred_t) )\n",
        "    rmses_t.append( np.sqrt(mean_squared_error(y.iloc[te], pred_t)) )\n",
        "\n",
        "print(f\"MAE médio (tuned):  {np.mean(maes_t):.3f} ± {np.std(maes_t):.3f}\")\n",
        "print(f\"RMSE médio (tuned): {np.mean(rmses_t):.3f} ± {np.std(rmses_t):.3f}\")\n"
      ],
      "metadata": {
        "colab": {
          "base_uri": "https://localhost:8080/"
        },
        "id": "qoDpxv5KvkI8",
        "outputId": "5d1b1da4-8804-47ff-e6de-588f913fce65"
      },
      "execution_count": 13,
      "outputs": [
        {
          "output_type": "stream",
          "name": "stdout",
          "text": [
            "MAE médio (tuned):  7.902 ± 0.392\n",
            "RMSE médio (tuned): 10.972 ± 0.496\n"
          ]
        }
      ]
    },
    {
      "cell_type": "markdown",
      "source": [
        "### Step 13a: Bootstrap de Picos (> 3σ) – 10 000 Réplicas\n",
        "\n",
        "Neste bloco, geramos 10 000 amostras bootstrap dos gaps para contar quantas vezes excedem o limiar \\(3σ\\).  \n",
        "Calculamos a **média** e o **intervalo de confiança 95 %** para a contagem de picos.\n"
      ],
      "metadata": {
        "id": "QfVHVyUhkRIz"
      }
    },
    {
      "cell_type": "code",
      "source": [
        "# 13a) Bootstrap de picos (> 3σ) – 10 000 réplicas\n",
        "import numpy as np\n",
        "\n",
        "n_boot    = 10_000\n",
        "k         = 3\n",
        "sigma     = np.std(gaps, ddof=0)\n",
        "threshold = k * sigma\n",
        "\n",
        "counts = []\n",
        "for _ in range(n_boot):\n",
        "    sample = np.random.choice(gaps, size=len(gaps), replace=True)\n",
        "    counts.append((sample > threshold).sum())\n",
        "\n",
        "print(\"Bootstrap de picos (> 3σ):\")\n",
        "print(f\" Média: {np.mean(counts):.1f}\")\n",
        "print(f\" 95 % CI: [{np.percentile(counts,2.5):.1f}, {np.percentile(counts,97.5):.1f}]\")\n"
      ],
      "metadata": {
        "colab": {
          "base_uri": "https://localhost:8080/"
        },
        "id": "X_llCzwMkSOA",
        "outputId": "879736f3-fe60-4e55-c531-cdf0855fc5bc"
      },
      "execution_count": 14,
      "outputs": [
        {
          "output_type": "stream",
          "name": "stdout",
          "text": [
            "Bootstrap de picos (> 3σ):\n",
            " Média: 6042.2\n",
            " 95 % CI: [5891.0, 6194.0]\n"
          ]
        }
      ]
    },
    {
      "cell_type": "markdown",
      "source": [
        "### Step 13b: Monte Carlo CV do Modelo Tunado – 100 Rodadas\n",
        "\n",
        "Aqui embaralhamos as janelas 100 vezes e, em cada réplica, rodamos um TimeSeriesSplit de 5 folds com o `best_model`.  \n",
        "Reportamos a **média ± desvio** de MAE e RMSE ao longo das 100 rodadas.\n"
      ],
      "metadata": {
        "id": "mAWPV5NPkZ9P"
      }
    },
    {
      "cell_type": "code",
      "source": [
        "# 13b) MC-CV do modelo tunado – 100 rodadas\n",
        "from sklearn.model_selection import TimeSeriesSplit\n",
        "from sklearn.metrics import mean_absolute_error, mean_squared_error\n",
        "\n",
        "n_mc     = 100\n",
        "maes_mc  = []\n",
        "rmses_mc = []\n",
        "tscv     = TimeSeriesSplit(n_splits=N_SPLITS)\n",
        "\n",
        "for run in range(n_mc):\n",
        "    idx = np.random.permutation(len(X))\n",
        "    Xs, ys = X.iloc[idx].reset_index(drop=True), y.iloc[idx].reset_index(drop=True)\n",
        "\n",
        "    fold_maes, fold_rmses = [], []\n",
        "    for tr, te in tscv.split(Xs):\n",
        "        pred = best_model.fit(Xs.iloc[tr], ys.iloc[tr]).predict(Xs.iloc[te])\n",
        "        fold_maes.append( mean_absolute_error(ys.iloc[te], pred) )\n",
        "        fold_rmses.append( np.sqrt(mean_squared_error(ys.iloc[te], pred)) )\n",
        "\n",
        "    maes_mc.append(np.mean(fold_maes))\n",
        "    rmses_mc.append(np.mean(fold_rmses))\n",
        "\n",
        "print(\"MC-CV do modelo tunado:\")\n",
        "print(f\" MAE média: {np.mean(maes_mc):.3f} ± {np.std(maes_mc):.3f}\")\n",
        "print(f\" RMSE média: {np.mean(rmses_mc):.3f} ± {np.std(rmses_mc):.3f}\")\n"
      ],
      "metadata": {
        "id": "mtyvFBxRkfUa",
        "outputId": "bad6e3a2-41e3-4a1f-e174-ce7699e48b8c",
        "colab": {
          "base_uri": "https://localhost:8080/"
        }
      },
      "execution_count": 16,
      "outputs": [
        {
          "output_type": "stream",
          "name": "stdout",
          "text": [
            "MC-CV do modelo tunado:\n",
            " MAE média: 7.911 ± 0.009\n",
            " RMSE média: 10.585 ± 0.019\n"
          ]
        }
      ]
    }
  ]
}
