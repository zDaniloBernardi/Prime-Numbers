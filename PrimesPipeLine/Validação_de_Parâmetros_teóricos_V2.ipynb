pip install numpy pandas sympy statsmodels scikit-learn xgboost fracdiff
